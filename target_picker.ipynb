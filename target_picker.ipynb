{
 "cells": [
  {
   "cell_type": "code",
   "execution_count": 44,
   "metadata": {
    "collapsed": false
   },
   "outputs": [],
   "source": [
    "import csv\n",
    "import math\n",
    "from haversine import haversine"
   ]
  },
  {
   "cell_type": "code",
   "execution_count": 66,
   "metadata": {
    "collapsed": false
   },
   "outputs": [
    {
     "name": "stdout",
     "output_type": "stream",
     "text": [
      "[[37.8706988, -122.2566218], [37.8717151, -122.2607149], [37.8700552, -122.258464], [37.8694737, -122.2576972], [37.8691966, -122.2572406], [37.87248, -122.26273], [37.87126, -122.25775], [37.87107, -122.25784]]\n"
     ]
    }
   ],
   "source": [
    "with open('test_locations.csv', 'rt') as f:\n",
    "    reader = csv.reader(f)\n",
    "    locations = list(reader)\n",
    "    locations = [[float(lat), float(lon)] for lat, lon in locations]\n",
    "    print(locations)"
   ]
  },
  {
   "cell_type": "code",
   "execution_count": 67,
   "metadata": {
    "collapsed": true
   },
   "outputs": [],
   "source": [
    "curr_loc = locations[0]\n",
    "enemies = locations[1:]"
   ]
  },
  {
   "cell_type": "code",
   "execution_count": 46,
   "metadata": {
    "collapsed": false
   },
   "outputs": [],
   "source": [
    "# Determine which enemies are within range\n",
    "def getAngle(curr, target):\n",
    "    dLat = target[0] - curr[0]\n",
    "    dLon = target[1] - curr[1]\n",
    "    angle = math.degrees(math.atan(dLat / dLon))\n",
    "    if dLon < 0:\n",
    "        angle += 180\n",
    "    return angle"
   ]
  },
  {
   "cell_type": "code",
   "execution_count": 41,
   "metadata": {
    "collapsed": false
   },
   "outputs": [
    {
     "data": {
      "text/plain": [
       "166.05568697399195"
      ]
     },
     "execution_count": 41,
     "metadata": {},
     "output_type": "execute_result"
    }
   ],
   "source": [
    "getAngle(curr_loc, enemies[0])"
   ]
  },
  {
   "cell_type": "code",
   "execution_count": 47,
   "metadata": {
    "collapsed": false
   },
   "outputs": [
    {
     "data": {
      "text/plain": [
       "0.37663143260339466"
      ]
     },
     "execution_count": 47,
     "metadata": {},
     "output_type": "execute_result"
    }
   ],
   "source": [
    "haversine(curr_loc, enemies[0])"
   ]
  },
  {
   "cell_type": "code",
   "execution_count": 63,
   "metadata": {
    "collapsed": true
   },
   "outputs": [],
   "source": [
    "def getTarget(curr_loc, curr_angle, enemies, angle_thresh=2): # 2 degree angle error as placeholder\n",
    "    minDist = float('inf')\n",
    "    minEnemy = None\n",
    "    for enemy in enemies:\n",
    "        angle = getAngle(curr_loc, enemy)\n",
    "        if abs(curr_angle - angle) < angle_thresh:\n",
    "            dist = haversine(curr_loc, enemy)\n",
    "            if dist < minDist:\n",
    "                minDist = dist\n",
    "                minEnemy = enemy\n",
    "    return minEnemy"
   ]
  },
  {
   "cell_type": "code",
   "execution_count": 68,
   "metadata": {
    "collapsed": false
   },
   "outputs": [
    {
     "data": {
      "text/plain": [
       "[37.87107, -122.25784]"
      ]
     },
     "execution_count": 68,
     "metadata": {},
     "output_type": "execute_result"
    }
   ],
   "source": [
    "getTarget(curr_loc, 165, enemies)"
   ]
  },
  {
   "cell_type": "code",
   "execution_count": 69,
   "metadata": {
    "collapsed": false
   },
   "outputs": [
    {
     "data": {
      "text/plain": [
       "163.0533989476298"
      ]
     },
     "execution_count": 69,
     "metadata": {},
     "output_type": "execute_result"
    }
   ],
   "source": [
    "getAngle(curr_loc, enemies[-1])"
   ]
  },
  {
   "cell_type": "code",
   "execution_count": null,
   "metadata": {
    "collapsed": true
   },
   "outputs": [],
   "source": []
  }
 ],
 "metadata": {
  "kernelspec": {
   "display_name": "Python [Root]",
   "language": "python",
   "name": "Python [Root]"
  },
  "language_info": {
   "codemirror_mode": {
    "name": "ipython",
    "version": 3
   },
   "file_extension": ".py",
   "mimetype": "text/x-python",
   "name": "python",
   "nbconvert_exporter": "python",
   "pygments_lexer": "ipython3",
   "version": "3.5.2"
  }
 },
 "nbformat": 4,
 "nbformat_minor": 0
}
